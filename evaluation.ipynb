{
  "nbformat": 4,
  "nbformat_minor": 0,
  "metadata": {
    "colab": {
      "provenance": []
    },
    "kernelspec": {
      "name": "python3",
      "display_name": "Python 3"
    },
    "language_info": {
      "name": "python"
    }
  },
  "cells": [
    {
      "cell_type": "code",
      "execution_count": 6,
      "metadata": {
        "colab": {
          "base_uri": "https://localhost:8080/"
        },
        "id": "so0M3K_Qq1fR",
        "outputId": "a4a2472e-8cb4-43fd-bc27-bb014a1683de"
      },
      "outputs": [
        {
          "output_type": "stream",
          "name": "stdout",
          "text": [
            "              precision    recall  f1-score   support\n",
            "\n",
            "           0       0.83      0.48      0.61      1200\n",
            "           1       0.12      0.42      0.19       200\n",
            "\n",
            "    accuracy                           0.47      1400\n",
            "   macro avg       0.48      0.45      0.40      1400\n",
            "weighted avg       0.73      0.47      0.55      1400\n",
            "\n"
          ]
        }
      ],
      "source": [
        "import pandas as pd \n",
        "from sklearn.metrics import classification_report, f1_score\n",
        "\n",
        "generated_labels = pd.read_csv(\"generated_labels.csv\")\n",
        "original_labels = pd.read_csv(\"task_A_En_test.csv\")\n",
        "\n",
        "preds = generated_labels['sarcastic'].tolist()\n",
        "test_y = original_labels['sarcastic'].tolist()\n",
        "\n",
        "print(classification_report(test_y, preds))\n",
        "\n"
      ]
    }
  ]
}