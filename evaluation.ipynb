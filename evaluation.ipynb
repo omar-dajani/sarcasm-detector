{
  "nbformat": 4,
  "nbformat_minor": 0,
  "metadata": {
    "colab": {
      "provenance": []
    },
    "kernelspec": {
      "name": "python3",
      "display_name": "Python 3"
    },
    "language_info": {
      "name": "python"
    },
    "gpuClass": "standard"
  },
  "cells": [
    {
      "cell_type": "markdown",
      "source": [
        "<h3>Evaluation</h3>\n",
        "<p>Please make sure you include the original csv test file `task_A_En_test.csv` and the generated labels csv file `generated_labels.csv` in this directory. The following cell will generate the evaluation on the unseen test data.</p>"
      ],
      "metadata": {
        "id": "L1e-3AVQ3-XK"
      }
    },
    {
      "cell_type": "code",
      "execution_count": 1,
      "metadata": {
        "colab": {
          "base_uri": "https://localhost:8080/"
        },
        "id": "zmvjBHigjWEP",
        "outputId": "f90cf2e6-0088-495a-f1a3-3882fac01b8e"
      },
      "outputs": [
        {
          "output_type": "stream",
          "name": "stdout",
          "text": [
            "              precision    recall  f1-score   support\n",
            "\n",
            "           0     0.9121    0.9250    0.9185      1200\n",
            "           1     0.5082    0.4650    0.4856       200\n",
            "\n",
            "    accuracy                         0.8593      1400\n",
            "   macro avg     0.7101    0.6950    0.7021      1400\n",
            "weighted avg     0.8544    0.8593    0.8567      1400\n",
            "\n"
          ]
        }
      ],
      "source": [
        "from sklearn.metrics import classification_report\n",
        "import pandas as pd\n",
        "\n",
        "def model_evaluate(y_true, y_pred):\n",
        "  print(classification_report(y_true, y_pred, digits=4))\n",
        "\n",
        "test_df = pd.read_csv('task_A_En_test.csv')\n",
        "generated_labels_df = pd.read_csv('generated_labels.csv')\n",
        "\n",
        "model_evaluate(test_df['sarcastic'], generated_labels_df['sarcastic'])"
      ]
    }
  ]
}