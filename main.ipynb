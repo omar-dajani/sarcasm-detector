{
  "nbformat": 4,
  "nbformat_minor": 0,
  "metadata": {
    "colab": {
      "provenance": []
    },
    "kernelspec": {
      "name": "python3",
      "display_name": "Python 3"
    },
    "language_info": {
      "name": "python"
    },
    "accelerator": "GPU",
    "gpuClass": "standard",
    "widgets": {
      "application/vnd.jupyter.widget-state+json": {
        "61c02c52253a47eca64d9d2111451334": {
          "model_module": "@jupyter-widgets/controls",
          "model_name": "HBoxModel",
          "model_module_version": "1.5.0",
          "state": {
            "_dom_classes": [],
            "_model_module": "@jupyter-widgets/controls",
            "_model_module_version": "1.5.0",
            "_model_name": "HBoxModel",
            "_view_count": null,
            "_view_module": "@jupyter-widgets/controls",
            "_view_module_version": "1.5.0",
            "_view_name": "HBoxView",
            "box_style": "",
            "children": [
              "IPY_MODEL_5d0aa8b8394d476e9fe0dee708210836",
              "IPY_MODEL_2e497aefd9a04af38a74f163cb393337",
              "IPY_MODEL_11f83e22ecdb4998805bb88590c00922"
            ],
            "layout": "IPY_MODEL_74cb5d743cd448af9fe2aaa356b109c9"
          }
        },
        "5d0aa8b8394d476e9fe0dee708210836": {
          "model_module": "@jupyter-widgets/controls",
          "model_name": "HTMLModel",
          "model_module_version": "1.5.0",
          "state": {
            "_dom_classes": [],
            "_model_module": "@jupyter-widgets/controls",
            "_model_module_version": "1.5.0",
            "_model_name": "HTMLModel",
            "_view_count": null,
            "_view_module": "@jupyter-widgets/controls",
            "_view_module_version": "1.5.0",
            "_view_name": "HTMLView",
            "description": "",
            "description_tooltip": null,
            "layout": "IPY_MODEL_e528916feab94693aa0d4a17b1317abc",
            "placeholder": "​",
            "style": "IPY_MODEL_32bf20d8a3114101b6b4af889866f689",
            "value": "Downloading (…)olve/main/vocab.json: 100%"
          }
        },
        "2e497aefd9a04af38a74f163cb393337": {
          "model_module": "@jupyter-widgets/controls",
          "model_name": "FloatProgressModel",
          "model_module_version": "1.5.0",
          "state": {
            "_dom_classes": [],
            "_model_module": "@jupyter-widgets/controls",
            "_model_module_version": "1.5.0",
            "_model_name": "FloatProgressModel",
            "_view_count": null,
            "_view_module": "@jupyter-widgets/controls",
            "_view_module_version": "1.5.0",
            "_view_name": "ProgressView",
            "bar_style": "success",
            "description": "",
            "description_tooltip": null,
            "layout": "IPY_MODEL_9e966cab286b489a940575333c072fc9",
            "max": 898823,
            "min": 0,
            "orientation": "horizontal",
            "style": "IPY_MODEL_548a76d96c1d4ab8b868be937c6d20b3",
            "value": 898823
          }
        },
        "11f83e22ecdb4998805bb88590c00922": {
          "model_module": "@jupyter-widgets/controls",
          "model_name": "HTMLModel",
          "model_module_version": "1.5.0",
          "state": {
            "_dom_classes": [],
            "_model_module": "@jupyter-widgets/controls",
            "_model_module_version": "1.5.0",
            "_model_name": "HTMLModel",
            "_view_count": null,
            "_view_module": "@jupyter-widgets/controls",
            "_view_module_version": "1.5.0",
            "_view_name": "HTMLView",
            "description": "",
            "description_tooltip": null,
            "layout": "IPY_MODEL_a4bd68128b7d424fbb4cc7f682aab1e4",
            "placeholder": "​",
            "style": "IPY_MODEL_6ca214af13ae47bca1826d2e15c1d510",
            "value": " 899k/899k [00:00&lt;00:00, 24.3MB/s]"
          }
        },
        "74cb5d743cd448af9fe2aaa356b109c9": {
          "model_module": "@jupyter-widgets/base",
          "model_name": "LayoutModel",
          "model_module_version": "1.2.0",
          "state": {
            "_model_module": "@jupyter-widgets/base",
            "_model_module_version": "1.2.0",
            "_model_name": "LayoutModel",
            "_view_count": null,
            "_view_module": "@jupyter-widgets/base",
            "_view_module_version": "1.2.0",
            "_view_name": "LayoutView",
            "align_content": null,
            "align_items": null,
            "align_self": null,
            "border": null,
            "bottom": null,
            "display": null,
            "flex": null,
            "flex_flow": null,
            "grid_area": null,
            "grid_auto_columns": null,
            "grid_auto_flow": null,
            "grid_auto_rows": null,
            "grid_column": null,
            "grid_gap": null,
            "grid_row": null,
            "grid_template_areas": null,
            "grid_template_columns": null,
            "grid_template_rows": null,
            "height": null,
            "justify_content": null,
            "justify_items": null,
            "left": null,
            "margin": null,
            "max_height": null,
            "max_width": null,
            "min_height": null,
            "min_width": null,
            "object_fit": null,
            "object_position": null,
            "order": null,
            "overflow": null,
            "overflow_x": null,
            "overflow_y": null,
            "padding": null,
            "right": null,
            "top": null,
            "visibility": null,
            "width": null
          }
        },
        "e528916feab94693aa0d4a17b1317abc": {
          "model_module": "@jupyter-widgets/base",
          "model_name": "LayoutModel",
          "model_module_version": "1.2.0",
          "state": {
            "_model_module": "@jupyter-widgets/base",
            "_model_module_version": "1.2.0",
            "_model_name": "LayoutModel",
            "_view_count": null,
            "_view_module": "@jupyter-widgets/base",
            "_view_module_version": "1.2.0",
            "_view_name": "LayoutView",
            "align_content": null,
            "align_items": null,
            "align_self": null,
            "border": null,
            "bottom": null,
            "display": null,
            "flex": null,
            "flex_flow": null,
            "grid_area": null,
            "grid_auto_columns": null,
            "grid_auto_flow": null,
            "grid_auto_rows": null,
            "grid_column": null,
            "grid_gap": null,
            "grid_row": null,
            "grid_template_areas": null,
            "grid_template_columns": null,
            "grid_template_rows": null,
            "height": null,
            "justify_content": null,
            "justify_items": null,
            "left": null,
            "margin": null,
            "max_height": null,
            "max_width": null,
            "min_height": null,
            "min_width": null,
            "object_fit": null,
            "object_position": null,
            "order": null,
            "overflow": null,
            "overflow_x": null,
            "overflow_y": null,
            "padding": null,
            "right": null,
            "top": null,
            "visibility": null,
            "width": null
          }
        },
        "32bf20d8a3114101b6b4af889866f689": {
          "model_module": "@jupyter-widgets/controls",
          "model_name": "DescriptionStyleModel",
          "model_module_version": "1.5.0",
          "state": {
            "_model_module": "@jupyter-widgets/controls",
            "_model_module_version": "1.5.0",
            "_model_name": "DescriptionStyleModel",
            "_view_count": null,
            "_view_module": "@jupyter-widgets/base",
            "_view_module_version": "1.2.0",
            "_view_name": "StyleView",
            "description_width": ""
          }
        },
        "9e966cab286b489a940575333c072fc9": {
          "model_module": "@jupyter-widgets/base",
          "model_name": "LayoutModel",
          "model_module_version": "1.2.0",
          "state": {
            "_model_module": "@jupyter-widgets/base",
            "_model_module_version": "1.2.0",
            "_model_name": "LayoutModel",
            "_view_count": null,
            "_view_module": "@jupyter-widgets/base",
            "_view_module_version": "1.2.0",
            "_view_name": "LayoutView",
            "align_content": null,
            "align_items": null,
            "align_self": null,
            "border": null,
            "bottom": null,
            "display": null,
            "flex": null,
            "flex_flow": null,
            "grid_area": null,
            "grid_auto_columns": null,
            "grid_auto_flow": null,
            "grid_auto_rows": null,
            "grid_column": null,
            "grid_gap": null,
            "grid_row": null,
            "grid_template_areas": null,
            "grid_template_columns": null,
            "grid_template_rows": null,
            "height": null,
            "justify_content": null,
            "justify_items": null,
            "left": null,
            "margin": null,
            "max_height": null,
            "max_width": null,
            "min_height": null,
            "min_width": null,
            "object_fit": null,
            "object_position": null,
            "order": null,
            "overflow": null,
            "overflow_x": null,
            "overflow_y": null,
            "padding": null,
            "right": null,
            "top": null,
            "visibility": null,
            "width": null
          }
        },
        "548a76d96c1d4ab8b868be937c6d20b3": {
          "model_module": "@jupyter-widgets/controls",
          "model_name": "ProgressStyleModel",
          "model_module_version": "1.5.0",
          "state": {
            "_model_module": "@jupyter-widgets/controls",
            "_model_module_version": "1.5.0",
            "_model_name": "ProgressStyleModel",
            "_view_count": null,
            "_view_module": "@jupyter-widgets/base",
            "_view_module_version": "1.2.0",
            "_view_name": "StyleView",
            "bar_color": null,
            "description_width": ""
          }
        },
        "a4bd68128b7d424fbb4cc7f682aab1e4": {
          "model_module": "@jupyter-widgets/base",
          "model_name": "LayoutModel",
          "model_module_version": "1.2.0",
          "state": {
            "_model_module": "@jupyter-widgets/base",
            "_model_module_version": "1.2.0",
            "_model_name": "LayoutModel",
            "_view_count": null,
            "_view_module": "@jupyter-widgets/base",
            "_view_module_version": "1.2.0",
            "_view_name": "LayoutView",
            "align_content": null,
            "align_items": null,
            "align_self": null,
            "border": null,
            "bottom": null,
            "display": null,
            "flex": null,
            "flex_flow": null,
            "grid_area": null,
            "grid_auto_columns": null,
            "grid_auto_flow": null,
            "grid_auto_rows": null,
            "grid_column": null,
            "grid_gap": null,
            "grid_row": null,
            "grid_template_areas": null,
            "grid_template_columns": null,
            "grid_template_rows": null,
            "height": null,
            "justify_content": null,
            "justify_items": null,
            "left": null,
            "margin": null,
            "max_height": null,
            "max_width": null,
            "min_height": null,
            "min_width": null,
            "object_fit": null,
            "object_position": null,
            "order": null,
            "overflow": null,
            "overflow_x": null,
            "overflow_y": null,
            "padding": null,
            "right": null,
            "top": null,
            "visibility": null,
            "width": null
          }
        },
        "6ca214af13ae47bca1826d2e15c1d510": {
          "model_module": "@jupyter-widgets/controls",
          "model_name": "DescriptionStyleModel",
          "model_module_version": "1.5.0",
          "state": {
            "_model_module": "@jupyter-widgets/controls",
            "_model_module_version": "1.5.0",
            "_model_name": "DescriptionStyleModel",
            "_view_count": null,
            "_view_module": "@jupyter-widgets/base",
            "_view_module_version": "1.2.0",
            "_view_name": "StyleView",
            "description_width": ""
          }
        },
        "33788bbd77494344a808257b0b08641c": {
          "model_module": "@jupyter-widgets/controls",
          "model_name": "HBoxModel",
          "model_module_version": "1.5.0",
          "state": {
            "_dom_classes": [],
            "_model_module": "@jupyter-widgets/controls",
            "_model_module_version": "1.5.0",
            "_model_name": "HBoxModel",
            "_view_count": null,
            "_view_module": "@jupyter-widgets/controls",
            "_view_module_version": "1.5.0",
            "_view_name": "HBoxView",
            "box_style": "",
            "children": [
              "IPY_MODEL_91019e1056f04892b312afcd24007c75",
              "IPY_MODEL_3c9a0bee93e0475fb13364e8f0a4d9c6",
              "IPY_MODEL_d7dc3f06d7104e08bc9d1a51849d2c69"
            ],
            "layout": "IPY_MODEL_0ab9d80229a8410e91a6ad14d36e7591"
          }
        },
        "91019e1056f04892b312afcd24007c75": {
          "model_module": "@jupyter-widgets/controls",
          "model_name": "HTMLModel",
          "model_module_version": "1.5.0",
          "state": {
            "_dom_classes": [],
            "_model_module": "@jupyter-widgets/controls",
            "_model_module_version": "1.5.0",
            "_model_name": "HTMLModel",
            "_view_count": null,
            "_view_module": "@jupyter-widgets/controls",
            "_view_module_version": "1.5.0",
            "_view_name": "HTMLView",
            "description": "",
            "description_tooltip": null,
            "layout": "IPY_MODEL_d647bf93adb642cfafa68c3a3111227a",
            "placeholder": "​",
            "style": "IPY_MODEL_ebb7872ae69b4173bb91c3f5c5f9fe4e",
            "value": "Downloading (…)olve/main/merges.txt: 100%"
          }
        },
        "3c9a0bee93e0475fb13364e8f0a4d9c6": {
          "model_module": "@jupyter-widgets/controls",
          "model_name": "FloatProgressModel",
          "model_module_version": "1.5.0",
          "state": {
            "_dom_classes": [],
            "_model_module": "@jupyter-widgets/controls",
            "_model_module_version": "1.5.0",
            "_model_name": "FloatProgressModel",
            "_view_count": null,
            "_view_module": "@jupyter-widgets/controls",
            "_view_module_version": "1.5.0",
            "_view_name": "ProgressView",
            "bar_style": "success",
            "description": "",
            "description_tooltip": null,
            "layout": "IPY_MODEL_ab0592fc0e4340a8a54bfdb6803668e7",
            "max": 456318,
            "min": 0,
            "orientation": "horizontal",
            "style": "IPY_MODEL_c33f958c152548609e5232b79ecb6636",
            "value": 456318
          }
        },
        "d7dc3f06d7104e08bc9d1a51849d2c69": {
          "model_module": "@jupyter-widgets/controls",
          "model_name": "HTMLModel",
          "model_module_version": "1.5.0",
          "state": {
            "_dom_classes": [],
            "_model_module": "@jupyter-widgets/controls",
            "_model_module_version": "1.5.0",
            "_model_name": "HTMLModel",
            "_view_count": null,
            "_view_module": "@jupyter-widgets/controls",
            "_view_module_version": "1.5.0",
            "_view_name": "HTMLView",
            "description": "",
            "description_tooltip": null,
            "layout": "IPY_MODEL_5215b7acbd664fd5af571e4bc0fd21cc",
            "placeholder": "​",
            "style": "IPY_MODEL_7a4347de16944c899e71b041d57fe7ed",
            "value": " 456k/456k [00:00&lt;00:00, 22.5MB/s]"
          }
        },
        "0ab9d80229a8410e91a6ad14d36e7591": {
          "model_module": "@jupyter-widgets/base",
          "model_name": "LayoutModel",
          "model_module_version": "1.2.0",
          "state": {
            "_model_module": "@jupyter-widgets/base",
            "_model_module_version": "1.2.0",
            "_model_name": "LayoutModel",
            "_view_count": null,
            "_view_module": "@jupyter-widgets/base",
            "_view_module_version": "1.2.0",
            "_view_name": "LayoutView",
            "align_content": null,
            "align_items": null,
            "align_self": null,
            "border": null,
            "bottom": null,
            "display": null,
            "flex": null,
            "flex_flow": null,
            "grid_area": null,
            "grid_auto_columns": null,
            "grid_auto_flow": null,
            "grid_auto_rows": null,
            "grid_column": null,
            "grid_gap": null,
            "grid_row": null,
            "grid_template_areas": null,
            "grid_template_columns": null,
            "grid_template_rows": null,
            "height": null,
            "justify_content": null,
            "justify_items": null,
            "left": null,
            "margin": null,
            "max_height": null,
            "max_width": null,
            "min_height": null,
            "min_width": null,
            "object_fit": null,
            "object_position": null,
            "order": null,
            "overflow": null,
            "overflow_x": null,
            "overflow_y": null,
            "padding": null,
            "right": null,
            "top": null,
            "visibility": null,
            "width": null
          }
        },
        "d647bf93adb642cfafa68c3a3111227a": {
          "model_module": "@jupyter-widgets/base",
          "model_name": "LayoutModel",
          "model_module_version": "1.2.0",
          "state": {
            "_model_module": "@jupyter-widgets/base",
            "_model_module_version": "1.2.0",
            "_model_name": "LayoutModel",
            "_view_count": null,
            "_view_module": "@jupyter-widgets/base",
            "_view_module_version": "1.2.0",
            "_view_name": "LayoutView",
            "align_content": null,
            "align_items": null,
            "align_self": null,
            "border": null,
            "bottom": null,
            "display": null,
            "flex": null,
            "flex_flow": null,
            "grid_area": null,
            "grid_auto_columns": null,
            "grid_auto_flow": null,
            "grid_auto_rows": null,
            "grid_column": null,
            "grid_gap": null,
            "grid_row": null,
            "grid_template_areas": null,
            "grid_template_columns": null,
            "grid_template_rows": null,
            "height": null,
            "justify_content": null,
            "justify_items": null,
            "left": null,
            "margin": null,
            "max_height": null,
            "max_width": null,
            "min_height": null,
            "min_width": null,
            "object_fit": null,
            "object_position": null,
            "order": null,
            "overflow": null,
            "overflow_x": null,
            "overflow_y": null,
            "padding": null,
            "right": null,
            "top": null,
            "visibility": null,
            "width": null
          }
        },
        "ebb7872ae69b4173bb91c3f5c5f9fe4e": {
          "model_module": "@jupyter-widgets/controls",
          "model_name": "DescriptionStyleModel",
          "model_module_version": "1.5.0",
          "state": {
            "_model_module": "@jupyter-widgets/controls",
            "_model_module_version": "1.5.0",
            "_model_name": "DescriptionStyleModel",
            "_view_count": null,
            "_view_module": "@jupyter-widgets/base",
            "_view_module_version": "1.2.0",
            "_view_name": "StyleView",
            "description_width": ""
          }
        },
        "ab0592fc0e4340a8a54bfdb6803668e7": {
          "model_module": "@jupyter-widgets/base",
          "model_name": "LayoutModel",
          "model_module_version": "1.2.0",
          "state": {
            "_model_module": "@jupyter-widgets/base",
            "_model_module_version": "1.2.0",
            "_model_name": "LayoutModel",
            "_view_count": null,
            "_view_module": "@jupyter-widgets/base",
            "_view_module_version": "1.2.0",
            "_view_name": "LayoutView",
            "align_content": null,
            "align_items": null,
            "align_self": null,
            "border": null,
            "bottom": null,
            "display": null,
            "flex": null,
            "flex_flow": null,
            "grid_area": null,
            "grid_auto_columns": null,
            "grid_auto_flow": null,
            "grid_auto_rows": null,
            "grid_column": null,
            "grid_gap": null,
            "grid_row": null,
            "grid_template_areas": null,
            "grid_template_columns": null,
            "grid_template_rows": null,
            "height": null,
            "justify_content": null,
            "justify_items": null,
            "left": null,
            "margin": null,
            "max_height": null,
            "max_width": null,
            "min_height": null,
            "min_width": null,
            "object_fit": null,
            "object_position": null,
            "order": null,
            "overflow": null,
            "overflow_x": null,
            "overflow_y": null,
            "padding": null,
            "right": null,
            "top": null,
            "visibility": null,
            "width": null
          }
        },
        "c33f958c152548609e5232b79ecb6636": {
          "model_module": "@jupyter-widgets/controls",
          "model_name": "ProgressStyleModel",
          "model_module_version": "1.5.0",
          "state": {
            "_model_module": "@jupyter-widgets/controls",
            "_model_module_version": "1.5.0",
            "_model_name": "ProgressStyleModel",
            "_view_count": null,
            "_view_module": "@jupyter-widgets/base",
            "_view_module_version": "1.2.0",
            "_view_name": "StyleView",
            "bar_color": null,
            "description_width": ""
          }
        },
        "5215b7acbd664fd5af571e4bc0fd21cc": {
          "model_module": "@jupyter-widgets/base",
          "model_name": "LayoutModel",
          "model_module_version": "1.2.0",
          "state": {
            "_model_module": "@jupyter-widgets/base",
            "_model_module_version": "1.2.0",
            "_model_name": "LayoutModel",
            "_view_count": null,
            "_view_module": "@jupyter-widgets/base",
            "_view_module_version": "1.2.0",
            "_view_name": "LayoutView",
            "align_content": null,
            "align_items": null,
            "align_self": null,
            "border": null,
            "bottom": null,
            "display": null,
            "flex": null,
            "flex_flow": null,
            "grid_area": null,
            "grid_auto_columns": null,
            "grid_auto_flow": null,
            "grid_auto_rows": null,
            "grid_column": null,
            "grid_gap": null,
            "grid_row": null,
            "grid_template_areas": null,
            "grid_template_columns": null,
            "grid_template_rows": null,
            "height": null,
            "justify_content": null,
            "justify_items": null,
            "left": null,
            "margin": null,
            "max_height": null,
            "max_width": null,
            "min_height": null,
            "min_width": null,
            "object_fit": null,
            "object_position": null,
            "order": null,
            "overflow": null,
            "overflow_x": null,
            "overflow_y": null,
            "padding": null,
            "right": null,
            "top": null,
            "visibility": null,
            "width": null
          }
        },
        "7a4347de16944c899e71b041d57fe7ed": {
          "model_module": "@jupyter-widgets/controls",
          "model_name": "DescriptionStyleModel",
          "model_module_version": "1.5.0",
          "state": {
            "_model_module": "@jupyter-widgets/controls",
            "_model_module_version": "1.5.0",
            "_model_name": "DescriptionStyleModel",
            "_view_count": null,
            "_view_module": "@jupyter-widgets/base",
            "_view_module_version": "1.2.0",
            "_view_name": "StyleView",
            "description_width": ""
          }
        },
        "81d40ba51d39499c95b655310d6c523f": {
          "model_module": "@jupyter-widgets/controls",
          "model_name": "HBoxModel",
          "model_module_version": "1.5.0",
          "state": {
            "_dom_classes": [],
            "_model_module": "@jupyter-widgets/controls",
            "_model_module_version": "1.5.0",
            "_model_name": "HBoxModel",
            "_view_count": null,
            "_view_module": "@jupyter-widgets/controls",
            "_view_module_version": "1.5.0",
            "_view_name": "HBoxView",
            "box_style": "",
            "children": [
              "IPY_MODEL_397efd1160524ced980da35f4d221616",
              "IPY_MODEL_85e528e0b7424998981feeb3c69fc5b7",
              "IPY_MODEL_e572e965a08e4d17a4228a7ec3ebe7cd"
            ],
            "layout": "IPY_MODEL_490bf9f4d33649c09d712235172752fe"
          }
        },
        "397efd1160524ced980da35f4d221616": {
          "model_module": "@jupyter-widgets/controls",
          "model_name": "HTMLModel",
          "model_module_version": "1.5.0",
          "state": {
            "_dom_classes": [],
            "_model_module": "@jupyter-widgets/controls",
            "_model_module_version": "1.5.0",
            "_model_name": "HTMLModel",
            "_view_count": null,
            "_view_module": "@jupyter-widgets/controls",
            "_view_module_version": "1.5.0",
            "_view_name": "HTMLView",
            "description": "",
            "description_tooltip": null,
            "layout": "IPY_MODEL_7c409b1733d447fc995fa5ee7b4200c6",
            "placeholder": "​",
            "style": "IPY_MODEL_08533a16ca8641ee94472f74a1906ab2",
            "value": "Downloading (…)lve/main/config.json: 100%"
          }
        },
        "85e528e0b7424998981feeb3c69fc5b7": {
          "model_module": "@jupyter-widgets/controls",
          "model_name": "FloatProgressModel",
          "model_module_version": "1.5.0",
          "state": {
            "_dom_classes": [],
            "_model_module": "@jupyter-widgets/controls",
            "_model_module_version": "1.5.0",
            "_model_name": "FloatProgressModel",
            "_view_count": null,
            "_view_module": "@jupyter-widgets/controls",
            "_view_module_version": "1.5.0",
            "_view_name": "ProgressView",
            "bar_style": "success",
            "description": "",
            "description_tooltip": null,
            "layout": "IPY_MODEL_64a07802019b4fe6b3155883774248ae",
            "max": 481,
            "min": 0,
            "orientation": "horizontal",
            "style": "IPY_MODEL_a6ca43840319430cafc184806d329780",
            "value": 481
          }
        },
        "e572e965a08e4d17a4228a7ec3ebe7cd": {
          "model_module": "@jupyter-widgets/controls",
          "model_name": "HTMLModel",
          "model_module_version": "1.5.0",
          "state": {
            "_dom_classes": [],
            "_model_module": "@jupyter-widgets/controls",
            "_model_module_version": "1.5.0",
            "_model_name": "HTMLModel",
            "_view_count": null,
            "_view_module": "@jupyter-widgets/controls",
            "_view_module_version": "1.5.0",
            "_view_name": "HTMLView",
            "description": "",
            "description_tooltip": null,
            "layout": "IPY_MODEL_dd0d021588074286a610b7f9e251bdd5",
            "placeholder": "​",
            "style": "IPY_MODEL_c0c699f4cd804917b7529f1d277d4a15",
            "value": " 481/481 [00:00&lt;00:00, 33.9kB/s]"
          }
        },
        "490bf9f4d33649c09d712235172752fe": {
          "model_module": "@jupyter-widgets/base",
          "model_name": "LayoutModel",
          "model_module_version": "1.2.0",
          "state": {
            "_model_module": "@jupyter-widgets/base",
            "_model_module_version": "1.2.0",
            "_model_name": "LayoutModel",
            "_view_count": null,
            "_view_module": "@jupyter-widgets/base",
            "_view_module_version": "1.2.0",
            "_view_name": "LayoutView",
            "align_content": null,
            "align_items": null,
            "align_self": null,
            "border": null,
            "bottom": null,
            "display": null,
            "flex": null,
            "flex_flow": null,
            "grid_area": null,
            "grid_auto_columns": null,
            "grid_auto_flow": null,
            "grid_auto_rows": null,
            "grid_column": null,
            "grid_gap": null,
            "grid_row": null,
            "grid_template_areas": null,
            "grid_template_columns": null,
            "grid_template_rows": null,
            "height": null,
            "justify_content": null,
            "justify_items": null,
            "left": null,
            "margin": null,
            "max_height": null,
            "max_width": null,
            "min_height": null,
            "min_width": null,
            "object_fit": null,
            "object_position": null,
            "order": null,
            "overflow": null,
            "overflow_x": null,
            "overflow_y": null,
            "padding": null,
            "right": null,
            "top": null,
            "visibility": null,
            "width": null
          }
        },
        "7c409b1733d447fc995fa5ee7b4200c6": {
          "model_module": "@jupyter-widgets/base",
          "model_name": "LayoutModel",
          "model_module_version": "1.2.0",
          "state": {
            "_model_module": "@jupyter-widgets/base",
            "_model_module_version": "1.2.0",
            "_model_name": "LayoutModel",
            "_view_count": null,
            "_view_module": "@jupyter-widgets/base",
            "_view_module_version": "1.2.0",
            "_view_name": "LayoutView",
            "align_content": null,
            "align_items": null,
            "align_self": null,
            "border": null,
            "bottom": null,
            "display": null,
            "flex": null,
            "flex_flow": null,
            "grid_area": null,
            "grid_auto_columns": null,
            "grid_auto_flow": null,
            "grid_auto_rows": null,
            "grid_column": null,
            "grid_gap": null,
            "grid_row": null,
            "grid_template_areas": null,
            "grid_template_columns": null,
            "grid_template_rows": null,
            "height": null,
            "justify_content": null,
            "justify_items": null,
            "left": null,
            "margin": null,
            "max_height": null,
            "max_width": null,
            "min_height": null,
            "min_width": null,
            "object_fit": null,
            "object_position": null,
            "order": null,
            "overflow": null,
            "overflow_x": null,
            "overflow_y": null,
            "padding": null,
            "right": null,
            "top": null,
            "visibility": null,
            "width": null
          }
        },
        "08533a16ca8641ee94472f74a1906ab2": {
          "model_module": "@jupyter-widgets/controls",
          "model_name": "DescriptionStyleModel",
          "model_module_version": "1.5.0",
          "state": {
            "_model_module": "@jupyter-widgets/controls",
            "_model_module_version": "1.5.0",
            "_model_name": "DescriptionStyleModel",
            "_view_count": null,
            "_view_module": "@jupyter-widgets/base",
            "_view_module_version": "1.2.0",
            "_view_name": "StyleView",
            "description_width": ""
          }
        },
        "64a07802019b4fe6b3155883774248ae": {
          "model_module": "@jupyter-widgets/base",
          "model_name": "LayoutModel",
          "model_module_version": "1.2.0",
          "state": {
            "_model_module": "@jupyter-widgets/base",
            "_model_module_version": "1.2.0",
            "_model_name": "LayoutModel",
            "_view_count": null,
            "_view_module": "@jupyter-widgets/base",
            "_view_module_version": "1.2.0",
            "_view_name": "LayoutView",
            "align_content": null,
            "align_items": null,
            "align_self": null,
            "border": null,
            "bottom": null,
            "display": null,
            "flex": null,
            "flex_flow": null,
            "grid_area": null,
            "grid_auto_columns": null,
            "grid_auto_flow": null,
            "grid_auto_rows": null,
            "grid_column": null,
            "grid_gap": null,
            "grid_row": null,
            "grid_template_areas": null,
            "grid_template_columns": null,
            "grid_template_rows": null,
            "height": null,
            "justify_content": null,
            "justify_items": null,
            "left": null,
            "margin": null,
            "max_height": null,
            "max_width": null,
            "min_height": null,
            "min_width": null,
            "object_fit": null,
            "object_position": null,
            "order": null,
            "overflow": null,
            "overflow_x": null,
            "overflow_y": null,
            "padding": null,
            "right": null,
            "top": null,
            "visibility": null,
            "width": null
          }
        },
        "a6ca43840319430cafc184806d329780": {
          "model_module": "@jupyter-widgets/controls",
          "model_name": "ProgressStyleModel",
          "model_module_version": "1.5.0",
          "state": {
            "_model_module": "@jupyter-widgets/controls",
            "_model_module_version": "1.5.0",
            "_model_name": "ProgressStyleModel",
            "_view_count": null,
            "_view_module": "@jupyter-widgets/base",
            "_view_module_version": "1.2.0",
            "_view_name": "StyleView",
            "bar_color": null,
            "description_width": ""
          }
        },
        "dd0d021588074286a610b7f9e251bdd5": {
          "model_module": "@jupyter-widgets/base",
          "model_name": "LayoutModel",
          "model_module_version": "1.2.0",
          "state": {
            "_model_module": "@jupyter-widgets/base",
            "_model_module_version": "1.2.0",
            "_model_name": "LayoutModel",
            "_view_count": null,
            "_view_module": "@jupyter-widgets/base",
            "_view_module_version": "1.2.0",
            "_view_name": "LayoutView",
            "align_content": null,
            "align_items": null,
            "align_self": null,
            "border": null,
            "bottom": null,
            "display": null,
            "flex": null,
            "flex_flow": null,
            "grid_area": null,
            "grid_auto_columns": null,
            "grid_auto_flow": null,
            "grid_auto_rows": null,
            "grid_column": null,
            "grid_gap": null,
            "grid_row": null,
            "grid_template_areas": null,
            "grid_template_columns": null,
            "grid_template_rows": null,
            "height": null,
            "justify_content": null,
            "justify_items": null,
            "left": null,
            "margin": null,
            "max_height": null,
            "max_width": null,
            "min_height": null,
            "min_width": null,
            "object_fit": null,
            "object_position": null,
            "order": null,
            "overflow": null,
            "overflow_x": null,
            "overflow_y": null,
            "padding": null,
            "right": null,
            "top": null,
            "visibility": null,
            "width": null
          }
        },
        "c0c699f4cd804917b7529f1d277d4a15": {
          "model_module": "@jupyter-widgets/controls",
          "model_name": "DescriptionStyleModel",
          "model_module_version": "1.5.0",
          "state": {
            "_model_module": "@jupyter-widgets/controls",
            "_model_module_version": "1.5.0",
            "_model_name": "DescriptionStyleModel",
            "_view_count": null,
            "_view_module": "@jupyter-widgets/base",
            "_view_module_version": "1.2.0",
            "_view_name": "StyleView",
            "description_width": ""
          }
        },
        "d8a48692a1324e7d816e30a205cd3244": {
          "model_module": "@jupyter-widgets/controls",
          "model_name": "HBoxModel",
          "model_module_version": "1.5.0",
          "state": {
            "_dom_classes": [],
            "_model_module": "@jupyter-widgets/controls",
            "_model_module_version": "1.5.0",
            "_model_name": "HBoxModel",
            "_view_count": null,
            "_view_module": "@jupyter-widgets/controls",
            "_view_module_version": "1.5.0",
            "_view_name": "HBoxView",
            "box_style": "",
            "children": [
              "IPY_MODEL_cbdc49f3c905414ead5ff9430ee7cedf",
              "IPY_MODEL_41185f43813e43bf99c0acd027f4e323",
              "IPY_MODEL_6c4699ded4ed4f79b54d68871e9bc4db"
            ],
            "layout": "IPY_MODEL_c87214fb802f4abb9b26d7c5a7fb510f"
          }
        },
        "cbdc49f3c905414ead5ff9430ee7cedf": {
          "model_module": "@jupyter-widgets/controls",
          "model_name": "HTMLModel",
          "model_module_version": "1.5.0",
          "state": {
            "_dom_classes": [],
            "_model_module": "@jupyter-widgets/controls",
            "_model_module_version": "1.5.0",
            "_model_name": "HTMLModel",
            "_view_count": null,
            "_view_module": "@jupyter-widgets/controls",
            "_view_module_version": "1.5.0",
            "_view_name": "HTMLView",
            "description": "",
            "description_tooltip": null,
            "layout": "IPY_MODEL_575c5d7ee4054f0e9e66737e9ed2cdf2",
            "placeholder": "​",
            "style": "IPY_MODEL_25bf20bf2936481d8a95bff3c9d7ac02",
            "value": "Downloading pytorch_model.bin: 100%"
          }
        },
        "41185f43813e43bf99c0acd027f4e323": {
          "model_module": "@jupyter-widgets/controls",
          "model_name": "FloatProgressModel",
          "model_module_version": "1.5.0",
          "state": {
            "_dom_classes": [],
            "_model_module": "@jupyter-widgets/controls",
            "_model_module_version": "1.5.0",
            "_model_name": "FloatProgressModel",
            "_view_count": null,
            "_view_module": "@jupyter-widgets/controls",
            "_view_module_version": "1.5.0",
            "_view_name": "ProgressView",
            "bar_style": "success",
            "description": "",
            "description_tooltip": null,
            "layout": "IPY_MODEL_beeaaf26abf14127ab34b9dc295e7050",
            "max": 501200538,
            "min": 0,
            "orientation": "horizontal",
            "style": "IPY_MODEL_ea270a48694343e4b9ca155d98c7e31b",
            "value": 501200538
          }
        },
        "6c4699ded4ed4f79b54d68871e9bc4db": {
          "model_module": "@jupyter-widgets/controls",
          "model_name": "HTMLModel",
          "model_module_version": "1.5.0",
          "state": {
            "_dom_classes": [],
            "_model_module": "@jupyter-widgets/controls",
            "_model_module_version": "1.5.0",
            "_model_name": "HTMLModel",
            "_view_count": null,
            "_view_module": "@jupyter-widgets/controls",
            "_view_module_version": "1.5.0",
            "_view_name": "HTMLView",
            "description": "",
            "description_tooltip": null,
            "layout": "IPY_MODEL_3fd8ead08bee400ab55b550002c68f59",
            "placeholder": "​",
            "style": "IPY_MODEL_8197853f34c34797a9259267a181b25e",
            "value": " 501M/501M [00:01&lt;00:00, 253MB/s]"
          }
        },
        "c87214fb802f4abb9b26d7c5a7fb510f": {
          "model_module": "@jupyter-widgets/base",
          "model_name": "LayoutModel",
          "model_module_version": "1.2.0",
          "state": {
            "_model_module": "@jupyter-widgets/base",
            "_model_module_version": "1.2.0",
            "_model_name": "LayoutModel",
            "_view_count": null,
            "_view_module": "@jupyter-widgets/base",
            "_view_module_version": "1.2.0",
            "_view_name": "LayoutView",
            "align_content": null,
            "align_items": null,
            "align_self": null,
            "border": null,
            "bottom": null,
            "display": null,
            "flex": null,
            "flex_flow": null,
            "grid_area": null,
            "grid_auto_columns": null,
            "grid_auto_flow": null,
            "grid_auto_rows": null,
            "grid_column": null,
            "grid_gap": null,
            "grid_row": null,
            "grid_template_areas": null,
            "grid_template_columns": null,
            "grid_template_rows": null,
            "height": null,
            "justify_content": null,
            "justify_items": null,
            "left": null,
            "margin": null,
            "max_height": null,
            "max_width": null,
            "min_height": null,
            "min_width": null,
            "object_fit": null,
            "object_position": null,
            "order": null,
            "overflow": null,
            "overflow_x": null,
            "overflow_y": null,
            "padding": null,
            "right": null,
            "top": null,
            "visibility": null,
            "width": null
          }
        },
        "575c5d7ee4054f0e9e66737e9ed2cdf2": {
          "model_module": "@jupyter-widgets/base",
          "model_name": "LayoutModel",
          "model_module_version": "1.2.0",
          "state": {
            "_model_module": "@jupyter-widgets/base",
            "_model_module_version": "1.2.0",
            "_model_name": "LayoutModel",
            "_view_count": null,
            "_view_module": "@jupyter-widgets/base",
            "_view_module_version": "1.2.0",
            "_view_name": "LayoutView",
            "align_content": null,
            "align_items": null,
            "align_self": null,
            "border": null,
            "bottom": null,
            "display": null,
            "flex": null,
            "flex_flow": null,
            "grid_area": null,
            "grid_auto_columns": null,
            "grid_auto_flow": null,
            "grid_auto_rows": null,
            "grid_column": null,
            "grid_gap": null,
            "grid_row": null,
            "grid_template_areas": null,
            "grid_template_columns": null,
            "grid_template_rows": null,
            "height": null,
            "justify_content": null,
            "justify_items": null,
            "left": null,
            "margin": null,
            "max_height": null,
            "max_width": null,
            "min_height": null,
            "min_width": null,
            "object_fit": null,
            "object_position": null,
            "order": null,
            "overflow": null,
            "overflow_x": null,
            "overflow_y": null,
            "padding": null,
            "right": null,
            "top": null,
            "visibility": null,
            "width": null
          }
        },
        "25bf20bf2936481d8a95bff3c9d7ac02": {
          "model_module": "@jupyter-widgets/controls",
          "model_name": "DescriptionStyleModel",
          "model_module_version": "1.5.0",
          "state": {
            "_model_module": "@jupyter-widgets/controls",
            "_model_module_version": "1.5.0",
            "_model_name": "DescriptionStyleModel",
            "_view_count": null,
            "_view_module": "@jupyter-widgets/base",
            "_view_module_version": "1.2.0",
            "_view_name": "StyleView",
            "description_width": ""
          }
        },
        "beeaaf26abf14127ab34b9dc295e7050": {
          "model_module": "@jupyter-widgets/base",
          "model_name": "LayoutModel",
          "model_module_version": "1.2.0",
          "state": {
            "_model_module": "@jupyter-widgets/base",
            "_model_module_version": "1.2.0",
            "_model_name": "LayoutModel",
            "_view_count": null,
            "_view_module": "@jupyter-widgets/base",
            "_view_module_version": "1.2.0",
            "_view_name": "LayoutView",
            "align_content": null,
            "align_items": null,
            "align_self": null,
            "border": null,
            "bottom": null,
            "display": null,
            "flex": null,
            "flex_flow": null,
            "grid_area": null,
            "grid_auto_columns": null,
            "grid_auto_flow": null,
            "grid_auto_rows": null,
            "grid_column": null,
            "grid_gap": null,
            "grid_row": null,
            "grid_template_areas": null,
            "grid_template_columns": null,
            "grid_template_rows": null,
            "height": null,
            "justify_content": null,
            "justify_items": null,
            "left": null,
            "margin": null,
            "max_height": null,
            "max_width": null,
            "min_height": null,
            "min_width": null,
            "object_fit": null,
            "object_position": null,
            "order": null,
            "overflow": null,
            "overflow_x": null,
            "overflow_y": null,
            "padding": null,
            "right": null,
            "top": null,
            "visibility": null,
            "width": null
          }
        },
        "ea270a48694343e4b9ca155d98c7e31b": {
          "model_module": "@jupyter-widgets/controls",
          "model_name": "ProgressStyleModel",
          "model_module_version": "1.5.0",
          "state": {
            "_model_module": "@jupyter-widgets/controls",
            "_model_module_version": "1.5.0",
            "_model_name": "ProgressStyleModel",
            "_view_count": null,
            "_view_module": "@jupyter-widgets/base",
            "_view_module_version": "1.2.0",
            "_view_name": "StyleView",
            "bar_color": null,
            "description_width": ""
          }
        },
        "3fd8ead08bee400ab55b550002c68f59": {
          "model_module": "@jupyter-widgets/base",
          "model_name": "LayoutModel",
          "model_module_version": "1.2.0",
          "state": {
            "_model_module": "@jupyter-widgets/base",
            "_model_module_version": "1.2.0",
            "_model_name": "LayoutModel",
            "_view_count": null,
            "_view_module": "@jupyter-widgets/base",
            "_view_module_version": "1.2.0",
            "_view_name": "LayoutView",
            "align_content": null,
            "align_items": null,
            "align_self": null,
            "border": null,
            "bottom": null,
            "display": null,
            "flex": null,
            "flex_flow": null,
            "grid_area": null,
            "grid_auto_columns": null,
            "grid_auto_flow": null,
            "grid_auto_rows": null,
            "grid_column": null,
            "grid_gap": null,
            "grid_row": null,
            "grid_template_areas": null,
            "grid_template_columns": null,
            "grid_template_rows": null,
            "height": null,
            "justify_content": null,
            "justify_items": null,
            "left": null,
            "margin": null,
            "max_height": null,
            "max_width": null,
            "min_height": null,
            "min_width": null,
            "object_fit": null,
            "object_position": null,
            "order": null,
            "overflow": null,
            "overflow_x": null,
            "overflow_y": null,
            "padding": null,
            "right": null,
            "top": null,
            "visibility": null,
            "width": null
          }
        },
        "8197853f34c34797a9259267a181b25e": {
          "model_module": "@jupyter-widgets/controls",
          "model_name": "DescriptionStyleModel",
          "model_module_version": "1.5.0",
          "state": {
            "_model_module": "@jupyter-widgets/controls",
            "_model_module_version": "1.5.0",
            "_model_name": "DescriptionStyleModel",
            "_view_count": null,
            "_view_module": "@jupyter-widgets/base",
            "_view_module_version": "1.2.0",
            "_view_name": "StyleView",
            "description_width": ""
          }
        }
      }
    }
  },
  "cells": [
    {
      "cell_type": "code",
      "source": [
        "!pip install transformers"
      ],
      "metadata": {
        "colab": {
          "base_uri": "https://localhost:8080/"
        },
        "id": "k0gkjD_yyaYI",
        "outputId": "3d5999a3-be82-4fc0-dd8b-b819d34c6cce"
      },
      "execution_count": 1,
      "outputs": [
        {
          "output_type": "stream",
          "name": "stdout",
          "text": [
            "Looking in indexes: https://pypi.org/simple, https://us-python.pkg.dev/colab-wheels/public/simple/\n",
            "Collecting transformers\n",
            "  Downloading transformers-4.28.1-py3-none-any.whl (7.0 MB)\n",
            "\u001b[2K     \u001b[90m━━━━━━━━━━━━━━━━━━━━━━━━━━━━━━━━━━━━━━━━\u001b[0m \u001b[32m7.0/7.0 MB\u001b[0m \u001b[31m49.7 MB/s\u001b[0m eta \u001b[36m0:00:00\u001b[0m\n",
            "\u001b[?25hRequirement already satisfied: numpy>=1.17 in /usr/local/lib/python3.10/dist-packages (from transformers) (1.22.4)\n",
            "Requirement already satisfied: requests in /usr/local/lib/python3.10/dist-packages (from transformers) (2.27.1)\n",
            "Requirement already satisfied: filelock in /usr/local/lib/python3.10/dist-packages (from transformers) (3.12.0)\n",
            "Collecting huggingface-hub<1.0,>=0.11.0\n",
            "  Downloading huggingface_hub-0.14.1-py3-none-any.whl (224 kB)\n",
            "\u001b[2K     \u001b[90m━━━━━━━━━━━━━━━━━━━━━━━━━━━━━━━━━━━━━━\u001b[0m \u001b[32m224.5/224.5 kB\u001b[0m \u001b[31m21.2 MB/s\u001b[0m eta \u001b[36m0:00:00\u001b[0m\n",
            "\u001b[?25hCollecting tokenizers!=0.11.3,<0.14,>=0.11.1\n",
            "  Downloading tokenizers-0.13.3-cp310-cp310-manylinux_2_17_x86_64.manylinux2014_x86_64.whl (7.8 MB)\n",
            "\u001b[2K     \u001b[90m━━━━━━━━━━━━━━━━━━━━━━━━━━━━━━━━━━━━━━━━\u001b[0m \u001b[32m7.8/7.8 MB\u001b[0m \u001b[31m42.4 MB/s\u001b[0m eta \u001b[36m0:00:00\u001b[0m\n",
            "\u001b[?25hRequirement already satisfied: packaging>=20.0 in /usr/local/lib/python3.10/dist-packages (from transformers) (23.1)\n",
            "Requirement already satisfied: regex!=2019.12.17 in /usr/local/lib/python3.10/dist-packages (from transformers) (2022.10.31)\n",
            "Requirement already satisfied: tqdm>=4.27 in /usr/local/lib/python3.10/dist-packages (from transformers) (4.65.0)\n",
            "Requirement already satisfied: pyyaml>=5.1 in /usr/local/lib/python3.10/dist-packages (from transformers) (6.0)\n",
            "Requirement already satisfied: typing-extensions>=3.7.4.3 in /usr/local/lib/python3.10/dist-packages (from huggingface-hub<1.0,>=0.11.0->transformers) (4.5.0)\n",
            "Requirement already satisfied: fsspec in /usr/local/lib/python3.10/dist-packages (from huggingface-hub<1.0,>=0.11.0->transformers) (2023.4.0)\n",
            "Requirement already satisfied: charset-normalizer~=2.0.0 in /usr/local/lib/python3.10/dist-packages (from requests->transformers) (2.0.12)\n",
            "Requirement already satisfied: certifi>=2017.4.17 in /usr/local/lib/python3.10/dist-packages (from requests->transformers) (2022.12.7)\n",
            "Requirement already satisfied: urllib3<1.27,>=1.21.1 in /usr/local/lib/python3.10/dist-packages (from requests->transformers) (1.26.15)\n",
            "Requirement already satisfied: idna<4,>=2.5 in /usr/local/lib/python3.10/dist-packages (from requests->transformers) (3.4)\n",
            "Installing collected packages: tokenizers, huggingface-hub, transformers\n",
            "Successfully installed huggingface-hub-0.14.1 tokenizers-0.13.3 transformers-4.28.1\n"
          ]
        }
      ]
    },
    {
      "cell_type": "code",
      "source": [
        "pip install -U torchtext==0.6.0"
      ],
      "metadata": {
        "colab": {
          "base_uri": "https://localhost:8080/"
        },
        "id": "qJLCMEJOCIw_",
        "outputId": "d66e343c-90a8-432e-94d4-63c97bbfac63"
      },
      "execution_count": 2,
      "outputs": [
        {
          "output_type": "stream",
          "name": "stdout",
          "text": [
            "Looking in indexes: https://pypi.org/simple, https://us-python.pkg.dev/colab-wheels/public/simple/\n",
            "Collecting torchtext==0.6.0\n",
            "  Downloading torchtext-0.6.0-py3-none-any.whl (64 kB)\n",
            "\u001b[2K     \u001b[90m━━━━━━━━━━━━━━━━━━━━━━━━━━━━━━━━━━━━━━━━\u001b[0m \u001b[32m64.2/64.2 kB\u001b[0m \u001b[31m9.7 MB/s\u001b[0m eta \u001b[36m0:00:00\u001b[0m\n",
            "\u001b[?25hRequirement already satisfied: tqdm in /usr/local/lib/python3.10/dist-packages (from torchtext==0.6.0) (4.65.0)\n",
            "Requirement already satisfied: torch in /usr/local/lib/python3.10/dist-packages (from torchtext==0.6.0) (2.0.0+cu118)\n",
            "Collecting sentencepiece\n",
            "  Downloading sentencepiece-0.1.98-cp310-cp310-manylinux_2_17_x86_64.manylinux2014_x86_64.whl (1.3 MB)\n",
            "\u001b[2K     \u001b[90m━━━━━━━━━━━━━━━━━━━━━━━━━━━━━━━━━━━━━━━━\u001b[0m \u001b[32m1.3/1.3 MB\u001b[0m \u001b[31m33.6 MB/s\u001b[0m eta \u001b[36m0:00:00\u001b[0m\n",
            "\u001b[?25hRequirement already satisfied: six in /usr/local/lib/python3.10/dist-packages (from torchtext==0.6.0) (1.16.0)\n",
            "Requirement already satisfied: requests in /usr/local/lib/python3.10/dist-packages (from torchtext==0.6.0) (2.27.1)\n",
            "Requirement already satisfied: numpy in /usr/local/lib/python3.10/dist-packages (from torchtext==0.6.0) (1.22.4)\n",
            "Requirement already satisfied: urllib3<1.27,>=1.21.1 in /usr/local/lib/python3.10/dist-packages (from requests->torchtext==0.6.0) (1.26.15)\n",
            "Requirement already satisfied: charset-normalizer~=2.0.0 in /usr/local/lib/python3.10/dist-packages (from requests->torchtext==0.6.0) (2.0.12)\n",
            "Requirement already satisfied: idna<4,>=2.5 in /usr/local/lib/python3.10/dist-packages (from requests->torchtext==0.6.0) (3.4)\n",
            "Requirement already satisfied: certifi>=2017.4.17 in /usr/local/lib/python3.10/dist-packages (from requests->torchtext==0.6.0) (2022.12.7)\n",
            "Requirement already satisfied: filelock in /usr/local/lib/python3.10/dist-packages (from torch->torchtext==0.6.0) (3.12.0)\n",
            "Requirement already satisfied: triton==2.0.0 in /usr/local/lib/python3.10/dist-packages (from torch->torchtext==0.6.0) (2.0.0)\n",
            "Requirement already satisfied: networkx in /usr/local/lib/python3.10/dist-packages (from torch->torchtext==0.6.0) (3.1)\n",
            "Requirement already satisfied: sympy in /usr/local/lib/python3.10/dist-packages (from torch->torchtext==0.6.0) (1.11.1)\n",
            "Requirement already satisfied: typing-extensions in /usr/local/lib/python3.10/dist-packages (from torch->torchtext==0.6.0) (4.5.0)\n",
            "Requirement already satisfied: jinja2 in /usr/local/lib/python3.10/dist-packages (from torch->torchtext==0.6.0) (3.1.2)\n",
            "Requirement already satisfied: cmake in /usr/local/lib/python3.10/dist-packages (from triton==2.0.0->torch->torchtext==0.6.0) (3.25.2)\n",
            "Requirement already satisfied: lit in /usr/local/lib/python3.10/dist-packages (from triton==2.0.0->torch->torchtext==0.6.0) (16.0.2)\n",
            "Requirement already satisfied: MarkupSafe>=2.0 in /usr/local/lib/python3.10/dist-packages (from jinja2->torch->torchtext==0.6.0) (2.1.2)\n",
            "Requirement already satisfied: mpmath>=0.19 in /usr/local/lib/python3.10/dist-packages (from sympy->torch->torchtext==0.6.0) (1.3.0)\n",
            "Installing collected packages: sentencepiece, torchtext\n",
            "  Attempting uninstall: torchtext\n",
            "    Found existing installation: torchtext 0.15.1\n",
            "    Uninstalling torchtext-0.15.1:\n",
            "      Successfully uninstalled torchtext-0.15.1\n",
            "Successfully installed sentencepiece-0.1.98 torchtext-0.6.0\n"
          ]
        }
      ]
    },
    {
      "cell_type": "code",
      "source": [
        "import pandas as pd\n",
        "import nltk\n",
        "import string\n",
        "import re as regexpression\n",
        "import torch\n",
        "import sys\n",
        "\n",
        "from transformers import RobertaTokenizer, AutoModel, AdamW, get_linear_schedule_with_warmup\n",
        "from torchtext.data import Field, TabularDataset, BucketIterator, Iterator"
      ],
      "metadata": {
        "id": "7mD_sAfv2Cr3"
      },
      "execution_count": 3,
      "outputs": []
    },
    {
      "cell_type": "markdown",
      "source": [
        "<h3>Helper functions</h3>"
      ],
      "metadata": {
        "id": "cj8AOdyZJAYa"
      }
    },
    {
      "cell_type": "code",
      "source": [
        "# returns the length of a tweet\n",
        "def get_tweet_length(example):\n",
        "  return len(example.clean_tweet)\n",
        "\n",
        "# saves the model state and loss\n",
        "def create_checkpoint(path, model, valid_loss):\n",
        "  checkpoint = {\n",
        "      'model_state_dict': model.state_dict(),\n",
        "      'valid_loss': valid_loss\n",
        "  }\n",
        "\n",
        "  torch.save(checkpoint, path)\n",
        "\n",
        "# load a checkpoint into a model\n",
        "def boot_from_checkpoint(path, model):\n",
        "  checkpoint = torch.load(path, map_location=device)\n",
        "  model.load_state_dict(checkpoint['model_state_dict'])\n",
        "  valid_loss = checkpoint['valid_loss']\n",
        "\n",
        "  return valid_loss"
      ],
      "metadata": {
        "id": "KoGn2BKGI_7-"
      },
      "execution_count": 4,
      "outputs": []
    },
    {
      "cell_type": "code",
      "source": [
        "torch.manual_seed(91212)\n",
        "if torch.cuda.is_available():\n",
        "  torch.cuda.manual_seed_all(91212)"
      ],
      "metadata": {
        "id": "PwOh6afHknRi"
      },
      "execution_count": 5,
      "outputs": []
    },
    {
      "cell_type": "markdown",
      "source": [
        "<h3>Loading data</h3>"
      ],
      "metadata": {
        "id": "phI_M57X15Uf"
      }
    },
    {
      "cell_type": "code",
      "source": [
        "extra_df = pd.read_csv(\"train.En.csv\")\n",
        "extra_df.head()"
      ],
      "metadata": {
        "colab": {
          "base_uri": "https://localhost:8080/",
          "height": 204
        },
        "id": "jykOMyX52AKT",
        "outputId": "0af51b90-4d62-4041-999b-758faa52aa7e"
      },
      "execution_count": 6,
      "outputs": [
        {
          "output_type": "execute_result",
          "data": {
            "text/plain": [
              "                                               tweet  sarcastic\n",
              "0  i never heard if it all might be raining snowi...          1\n",
              "1  <user> hold on a minute . are you saying all b...          1\n",
              "2  Spiritfarer is so good, I bought it several mo...          0\n",
              "3  This time last year 🌈💛 there may not be a para...          0\n",
              "4  got yourself a particularly bloody screening i...          1"
            ],
            "text/html": [
              "\n",
              "  <div id=\"df-e47af16d-3d52-48fc-99a5-8d69934d24c0\">\n",
              "    <div class=\"colab-df-container\">\n",
              "      <div>\n",
              "<style scoped>\n",
              "    .dataframe tbody tr th:only-of-type {\n",
              "        vertical-align: middle;\n",
              "    }\n",
              "\n",
              "    .dataframe tbody tr th {\n",
              "        vertical-align: top;\n",
              "    }\n",
              "\n",
              "    .dataframe thead th {\n",
              "        text-align: right;\n",
              "    }\n",
              "</style>\n",
              "<table border=\"1\" class=\"dataframe\">\n",
              "  <thead>\n",
              "    <tr style=\"text-align: right;\">\n",
              "      <th></th>\n",
              "      <th>tweet</th>\n",
              "      <th>sarcastic</th>\n",
              "    </tr>\n",
              "  </thead>\n",
              "  <tbody>\n",
              "    <tr>\n",
              "      <th>0</th>\n",
              "      <td>i never heard if it all might be raining snowi...</td>\n",
              "      <td>1</td>\n",
              "    </tr>\n",
              "    <tr>\n",
              "      <th>1</th>\n",
              "      <td>&lt;user&gt; hold on a minute . are you saying all b...</td>\n",
              "      <td>1</td>\n",
              "    </tr>\n",
              "    <tr>\n",
              "      <th>2</th>\n",
              "      <td>Spiritfarer is so good, I bought it several mo...</td>\n",
              "      <td>0</td>\n",
              "    </tr>\n",
              "    <tr>\n",
              "      <th>3</th>\n",
              "      <td>This time last year 🌈💛 there may not be a para...</td>\n",
              "      <td>0</td>\n",
              "    </tr>\n",
              "    <tr>\n",
              "      <th>4</th>\n",
              "      <td>got yourself a particularly bloody screening i...</td>\n",
              "      <td>1</td>\n",
              "    </tr>\n",
              "  </tbody>\n",
              "</table>\n",
              "</div>\n",
              "      <button class=\"colab-df-convert\" onclick=\"convertToInteractive('df-e47af16d-3d52-48fc-99a5-8d69934d24c0')\"\n",
              "              title=\"Convert this dataframe to an interactive table.\"\n",
              "              style=\"display:none;\">\n",
              "        \n",
              "  <svg xmlns=\"http://www.w3.org/2000/svg\" height=\"24px\"viewBox=\"0 0 24 24\"\n",
              "       width=\"24px\">\n",
              "    <path d=\"M0 0h24v24H0V0z\" fill=\"none\"/>\n",
              "    <path d=\"M18.56 5.44l.94 2.06.94-2.06 2.06-.94-2.06-.94-.94-2.06-.94 2.06-2.06.94zm-11 1L8.5 8.5l.94-2.06 2.06-.94-2.06-.94L8.5 2.5l-.94 2.06-2.06.94zm10 10l.94 2.06.94-2.06 2.06-.94-2.06-.94-.94-2.06-.94 2.06-2.06.94z\"/><path d=\"M17.41 7.96l-1.37-1.37c-.4-.4-.92-.59-1.43-.59-.52 0-1.04.2-1.43.59L10.3 9.45l-7.72 7.72c-.78.78-.78 2.05 0 2.83L4 21.41c.39.39.9.59 1.41.59.51 0 1.02-.2 1.41-.59l7.78-7.78 2.81-2.81c.8-.78.8-2.07 0-2.86zM5.41 20L4 18.59l7.72-7.72 1.47 1.35L5.41 20z\"/>\n",
              "  </svg>\n",
              "      </button>\n",
              "      \n",
              "  <style>\n",
              "    .colab-df-container {\n",
              "      display:flex;\n",
              "      flex-wrap:wrap;\n",
              "      gap: 12px;\n",
              "    }\n",
              "\n",
              "    .colab-df-convert {\n",
              "      background-color: #E8F0FE;\n",
              "      border: none;\n",
              "      border-radius: 50%;\n",
              "      cursor: pointer;\n",
              "      display: none;\n",
              "      fill: #1967D2;\n",
              "      height: 32px;\n",
              "      padding: 0 0 0 0;\n",
              "      width: 32px;\n",
              "    }\n",
              "\n",
              "    .colab-df-convert:hover {\n",
              "      background-color: #E2EBFA;\n",
              "      box-shadow: 0px 1px 2px rgba(60, 64, 67, 0.3), 0px 1px 3px 1px rgba(60, 64, 67, 0.15);\n",
              "      fill: #174EA6;\n",
              "    }\n",
              "\n",
              "    [theme=dark] .colab-df-convert {\n",
              "      background-color: #3B4455;\n",
              "      fill: #D2E3FC;\n",
              "    }\n",
              "\n",
              "    [theme=dark] .colab-df-convert:hover {\n",
              "      background-color: #434B5C;\n",
              "      box-shadow: 0px 1px 3px 1px rgba(0, 0, 0, 0.15);\n",
              "      filter: drop-shadow(0px 1px 2px rgba(0, 0, 0, 0.3));\n",
              "      fill: #FFFFFF;\n",
              "    }\n",
              "  </style>\n",
              "\n",
              "      <script>\n",
              "        const buttonEl =\n",
              "          document.querySelector('#df-e47af16d-3d52-48fc-99a5-8d69934d24c0 button.colab-df-convert');\n",
              "        buttonEl.style.display =\n",
              "          google.colab.kernel.accessAllowed ? 'block' : 'none';\n",
              "\n",
              "        async function convertToInteractive(key) {\n",
              "          const element = document.querySelector('#df-e47af16d-3d52-48fc-99a5-8d69934d24c0');\n",
              "          const dataTable =\n",
              "            await google.colab.kernel.invokeFunction('convertToInteractive',\n",
              "                                                     [key], {});\n",
              "          if (!dataTable) return;\n",
              "\n",
              "          const docLinkHtml = 'Like what you see? Visit the ' +\n",
              "            '<a target=\"_blank\" href=https://colab.research.google.com/notebooks/data_table.ipynb>data table notebook</a>'\n",
              "            + ' to learn more about interactive tables.';\n",
              "          element.innerHTML = '';\n",
              "          dataTable['output_type'] = 'display_data';\n",
              "          await google.colab.output.renderOutput(dataTable, element);\n",
              "          const docLink = document.createElement('div');\n",
              "          docLink.innerHTML = docLinkHtml;\n",
              "          element.appendChild(docLink);\n",
              "        }\n",
              "      </script>\n",
              "    </div>\n",
              "  </div>\n",
              "  "
            ]
          },
          "metadata": {},
          "execution_count": 6
        }
      ]
    },
    {
      "cell_type": "markdown",
      "source": [
        "<h3>Preprocessing the data</h3>\n",
        "<ul>\n",
        "<li>Removes @ from tweets</li>\n",
        "<li>Removes any URLs that start with \"http\" or \"https\" from tweets</li>\n",
        "<li>Removes any decimal points/number from tweets</li>\n",
        "<li>Converts tweets to lowercase</li>\n",
        "<li>Removes any white spaces</li>\n",
        "<li>Trimmed to a maximum length of 516 characters</li>\n",
        "</ul>"
      ],
      "metadata": {
        "id": "--m1ojjA2kPT"
      }
    },
    {
      "cell_type": "code",
      "source": [
        "tweets = list(extra_df[\"tweet\"])\n",
        "\n",
        "patterns = [\n",
        "    r'@\\S+',\n",
        "    r'http\\S+',\n",
        "    r'\\d*\\.\\d+'\n",
        "]\n",
        "\n",
        "cleaned_reviews = []\n",
        "for review in range(len(tweets)):\n",
        "  cleaned_review = str(tweets[review])\n",
        "  for pattern in patterns:\n",
        "    cleaned_review = regexpression.sub(pattern, ' ', cleaned_review)\n",
        "\n",
        "  cleaned_review = ' '.join(cleaned_review.lower().split())\n",
        "\n",
        "  cleaned_reviews.append(cleaned_review)\n",
        "\n",
        "extra_df = extra_df.assign(clean_tweet = cleaned_reviews)\n",
        "\n",
        "extra_df = extra_df.drop_duplicates(subset=[\"clean_tweet\"])\n",
        "\n",
        "extra_df['clean_tweet'] = extra_df['clean_tweet'].apply(lambda x: \" \".join(x.split()[:516]))\n",
        "extra_df.to_csv(\"preprocessed_data.csv\")"
      ],
      "metadata": {
        "id": "NcjfoA3t2nF_"
      },
      "execution_count": 7,
      "outputs": []
    },
    {
      "cell_type": "markdown",
      "source": [
        "<h3>GPU / CPU setup</h3>"
      ],
      "metadata": {
        "id": "KCSwpcJ89R4r"
      }
    },
    {
      "cell_type": "code",
      "source": [
        "if torch.cuda.is_available():\n",
        "    device = torch.device(\"cuda\")\n",
        "\n",
        "    print(\"Using GPU\")\n",
        "    torch.backends.cudnn.deterministic = True\n",
        "    torch.backends.cudnn.benchmark = False          \n",
        "else:\n",
        "    print('No GPU is available, using CPU.')\n",
        "    device = torch.device(\"cpu\")"
      ],
      "metadata": {
        "colab": {
          "base_uri": "https://localhost:8080/"
        },
        "id": "yKYlYvSF9RX3",
        "outputId": "7159210e-664b-4b16-b18f-5b169bd0f30e"
      },
      "execution_count": 8,
      "outputs": [
        {
          "output_type": "stream",
          "name": "stdout",
          "text": [
            "Using GPU\n"
          ]
        }
      ]
    },
    {
      "cell_type": "markdown",
      "source": [
        "<h3>Initialize tokenizer</h3>\n",
        "<p>Using fields to represent the labels and tweets.</p>"
      ],
      "metadata": {
        "id": "rZZpX1Y4-DkY"
      }
    },
    {
      "cell_type": "code",
      "source": [
        "tokenizer = RobertaTokenizer.from_pretrained(\"roberta-base\")\n",
        "\n",
        "max_seq_len = 256\n",
        "batch_size = 16\n",
        "\n",
        "padding_indices = tokenizer.convert_tokens_to_ids(tokenizer.pad_token)\n",
        "unkown_indices = tokenizer.convert_tokens_to_ids(tokenizer.unk_token)\n",
        "\n",
        "label_representation = Field(\n",
        "    sequential=False,          # represents a single label value\n",
        "    use_vocab=False,           # label is not text, no need to build a vocabulary\n",
        "    batch_first=True           # first dimension of input data is the batch size\n",
        ")\n",
        "\n",
        "text_representation = Field(\n",
        "    use_vocab=False,           # does not need to build a vocabulary, tokenizer is used to tokenize/encode the data\n",
        "    tokenize=tokenizer.encode, # tokenizer that is used to encode the text\n",
        "    include_lengths=False,     # we have a fixed length, no need to output\n",
        "    batch_first=True,\n",
        "    fix_length=max_seq_len,    # maximum length of text sequences. if length is shorter, padding will be applied. if longer, it is truncated\n",
        "    pad_token=tokenizer.convert_tokens_to_ids(tokenizer.pad_token),\n",
        "    unk_token=tokenizer.convert_tokens_to_ids(tokenizer.unk_token)\n",
        ")"
      ],
      "metadata": {
        "id": "6qrh1KSI-C3k",
        "colab": {
          "base_uri": "https://localhost:8080/",
          "height": 113,
          "referenced_widgets": [
            "61c02c52253a47eca64d9d2111451334",
            "5d0aa8b8394d476e9fe0dee708210836",
            "2e497aefd9a04af38a74f163cb393337",
            "11f83e22ecdb4998805bb88590c00922",
            "74cb5d743cd448af9fe2aaa356b109c9",
            "e528916feab94693aa0d4a17b1317abc",
            "32bf20d8a3114101b6b4af889866f689",
            "9e966cab286b489a940575333c072fc9",
            "548a76d96c1d4ab8b868be937c6d20b3",
            "a4bd68128b7d424fbb4cc7f682aab1e4",
            "6ca214af13ae47bca1826d2e15c1d510",
            "33788bbd77494344a808257b0b08641c",
            "91019e1056f04892b312afcd24007c75",
            "3c9a0bee93e0475fb13364e8f0a4d9c6",
            "d7dc3f06d7104e08bc9d1a51849d2c69",
            "0ab9d80229a8410e91a6ad14d36e7591",
            "d647bf93adb642cfafa68c3a3111227a",
            "ebb7872ae69b4173bb91c3f5c5f9fe4e",
            "ab0592fc0e4340a8a54bfdb6803668e7",
            "c33f958c152548609e5232b79ecb6636",
            "5215b7acbd664fd5af571e4bc0fd21cc",
            "7a4347de16944c899e71b041d57fe7ed",
            "81d40ba51d39499c95b655310d6c523f",
            "397efd1160524ced980da35f4d221616",
            "85e528e0b7424998981feeb3c69fc5b7",
            "e572e965a08e4d17a4228a7ec3ebe7cd",
            "490bf9f4d33649c09d712235172752fe",
            "7c409b1733d447fc995fa5ee7b4200c6",
            "08533a16ca8641ee94472f74a1906ab2",
            "64a07802019b4fe6b3155883774248ae",
            "a6ca43840319430cafc184806d329780",
            "dd0d021588074286a610b7f9e251bdd5",
            "c0c699f4cd804917b7529f1d277d4a15"
          ]
        },
        "outputId": "0207393d-e1d9-4a6a-96b2-24a53c275bb5"
      },
      "execution_count": 9,
      "outputs": [
        {
          "output_type": "display_data",
          "data": {
            "text/plain": [
              "Downloading (…)olve/main/vocab.json:   0%|          | 0.00/899k [00:00<?, ?B/s]"
            ],
            "application/vnd.jupyter.widget-view+json": {
              "version_major": 2,
              "version_minor": 0,
              "model_id": "61c02c52253a47eca64d9d2111451334"
            }
          },
          "metadata": {}
        },
        {
          "output_type": "display_data",
          "data": {
            "text/plain": [
              "Downloading (…)olve/main/merges.txt:   0%|          | 0.00/456k [00:00<?, ?B/s]"
            ],
            "application/vnd.jupyter.widget-view+json": {
              "version_major": 2,
              "version_minor": 0,
              "model_id": "33788bbd77494344a808257b0b08641c"
            }
          },
          "metadata": {}
        },
        {
          "output_type": "display_data",
          "data": {
            "text/plain": [
              "Downloading (…)lve/main/config.json:   0%|          | 0.00/481 [00:00<?, ?B/s]"
            ],
            "application/vnd.jupyter.widget-view+json": {
              "version_major": 2,
              "version_minor": 0,
              "model_id": "81d40ba51d39499c95b655310d6c523f"
            }
          },
          "metadata": {}
        }
      ]
    },
    {
      "cell_type": "markdown",
      "source": [
        "<h3>Split the data</h3>\n",
        "<p>We convert the data into iterators which is what is used to iterate over batches during pretraining and training. We are also splitting the day into 65% training, 25% validation and 10% test data.</p>"
      ],
      "metadata": {
        "id": "0a-ra5upEXlS"
      }
    },
    {
      "cell_type": "code",
      "source": [
        "fields = {}\n",
        "fields['clean_tweet'] = ('clean_tweet', text_representation)\n",
        "fields['sarcastic'] = ('sarcastic', label_representation)\n",
        "\n",
        "train_data, validation_data, test_data = TabularDataset(\n",
        "    path=\"preprocessed_data.csv\",\n",
        "    format='CSV',\n",
        "    fields=fields,\n",
        "    skip_header=False\n",
        ").split(\n",
        "    split_ratio=[0.65, 0.25, 0.1],\n",
        "    stratified=True,                        # maintain class distribution across splits\n",
        "    strata_field='sarcastic'\n",
        ")\n",
        "\n",
        "# iterator groups together examples with similar lengths\n",
        "train_iterator, valid_iterator = BucketIterator.splits(\n",
        "    (train_data, validation_data),          # create one iterator for training data and another for validation data\n",
        "    batch_size = batch_size,\n",
        "    device=device,\n",
        "    shuffle=True,                           # shuffle the examples before each epoch in during training\n",
        "    sort_key=get_tweet_length,              # returns length of an example (used to group examples of similar lengths)\n",
        "    sort=True,\n",
        "    sort_within_batch=False\n",
        ")\n",
        "\n",
        "# no need to shuffle examples for test iterator\n",
        "test_iterator = Iterator(\n",
        "    test_data,\n",
        "    batch_size=batch_size,\n",
        "    device=device,\n",
        "    train=False,\n",
        "    shuffle=False,\n",
        "    sort=False\n",
        ")"
      ],
      "metadata": {
        "id": "eQemv0ctEcvw"
      },
      "execution_count": 10,
      "outputs": []
    },
    {
      "cell_type": "markdown",
      "source": [
        "<h3>Model Architecture</h3>\n",
        "<ul>\n",
        "<li>We decided to add three linear layers and three dropout layers on top of the RoBERTa model.</li>\n",
        "<li>The dropout layers randomly dropped some of the output values to zero; preventing overfitting.</li>\n",
        "</ul>"
      ],
      "metadata": {
        "id": "znk2Mr0TQp7b"
      }
    },
    {
      "cell_type": "code",
      "source": [
        "class ROBERTA(torch.nn.Module):\n",
        "    def __init__(self):\n",
        "        super(ROBERTA, self).__init__()\n",
        "        \n",
        "        self.roberta = AutoModel.from_pretrained('roberta-base',return_dict=False)\n",
        "        self.dropout_1 = torch.nn.Dropout(0.4)\n",
        "        self.linear_1 = torch.nn.Linear(768, 58)\n",
        "        self.batch_normalization = torch.nn.LayerNorm(58)\n",
        "        self.dropout_2 = torch.nn.Dropout(0.4)\n",
        "        self.linear_2 = torch.nn.Linear(58, 32)\n",
        "        self.dropout_3 = torch.nn.Dropout(0.4)\n",
        "        self.linear_3 = torch.nn.Linear(32, 2)\n",
        "        \n",
        "    def forward(self, input_ids, attention_mask):\n",
        "        _, x = self.roberta(input_ids=input_ids, attention_mask=attention_mask)\n",
        "        x = self.dropout_1(x)\n",
        "        x = self.linear_1(x)\n",
        "        x = self.batch_normalization(x)\n",
        "        x = torch.nn.Tanh()(x)\n",
        "        x = self.dropout_2(x)\n",
        "        x = self.linear_2(x)\n",
        "        x = self.dropout_3(x)\n",
        "        x = self.linear_3(x)\n",
        "        return x  \n"
      ],
      "metadata": {
        "id": "UaN2ZIuvQpeS"
      },
      "execution_count": 11,
      "outputs": []
    },
    {
      "cell_type": "markdown",
      "source": [
        "<h3>Pretrain the model</h3>\n",
        "<p>Trains on the dataset using `train_iterator` and evaluates the model using `valid_iterator`. We are using the CrossEntropyLoss loss function update the model's parameters using the optimizer. A scheduler is used to adjust the learning rate during training. We stop pretraining at 5 epochs or whenever the model starts to overfit for 3+ epochs; whichever comes first.</p>"
      ],
      "metadata": {
        "id": "g7MxEylbvWES"
      }
    },
    {
      "cell_type": "code",
      "source": [
        "def pretrain(model, optimizer, train_iterator, valid_iterator, scheduler = None, evaluation_period = len(train_iterator), epochs=5):\n",
        "    tolerance = 0\n",
        "    max_tolerance = 3\n",
        "\n",
        "    # freeze parameters\n",
        "    for param in model.roberta.parameters():\n",
        "        param.requires_grad = False\n",
        "    \n",
        "    model.train()                                                               # switch model to training mode\n",
        "    \n",
        "    training_loss = 0.0\n",
        "    validation_loss = 0.0   \n",
        "    period = 0  \n",
        "    \n",
        "    for epoch in range(epochs):\n",
        "        for batch in train_iterator:\n",
        "            (tweet, label), _ = batch\n",
        "\n",
        "            mask = (tweet != padding_indices).type(torch.uint8)                 # ignore padding tokens\n",
        "            \n",
        "            # forward pass and calculate loss\n",
        "            y_pred = model(input_ids=tweet, attention_mask=mask)\n",
        "            loss = torch.nn.CrossEntropyLoss()(y_pred, label)\n",
        "\n",
        "            # backward pass and optimization\n",
        "            loss.backward()                                                     # compute gradients\n",
        "            optimizer.step()                                                    # update parameters\n",
        "            scheduler.step()                                                    # update learning rate\n",
        "            optimizer.zero_grad()                                               # reset gradients\n",
        "            training_loss = training_loss + loss.item()\n",
        "            period = period + 1\n",
        "\n",
        "            # evaluate model on validation set\n",
        "            if period % evaluation_period == 0:\n",
        "                model.eval()\n",
        "                \n",
        "                with torch.no_grad():                    \n",
        "                    for batch in valid_iterator:\n",
        "                        (tweet, label), _ = batch\n",
        "                        mask = (tweet != padding_indices).type(torch.uint8)\n",
        "                        y_pred = model(input_ids=tweet, attention_mask=mask)\n",
        "                        loss = torch.nn.CrossEntropyLoss()(y_pred, label)\n",
        "                        validation_loss += loss.item()\n",
        "\n",
        "                training_loss = training_loss / evaluation_period\n",
        "                validation_loss = validation_loss / len(valid_iterator)\n",
        "\n",
        "                if training_loss < validation_loss:\n",
        "                  tolerance = tolerance + 1\n",
        "                \n",
        "                model.train()\n",
        "\n",
        "                print('Epoch [{}/{}], tolerance [{}/{}], training loss: {:.4f}, validation loss: {:.4f}'\n",
        "                      .format(epoch + 1, epochs, tolerance, max_tolerance, training_loss, validation_loss))\n",
        "                \n",
        "                training_loss = 0.0                \n",
        "                validation_loss = 0.0\n",
        "\n",
        "                # stop pretraining if we are overfitting too much\n",
        "                if tolerance >= max_tolerance:\n",
        "                  break\n",
        "                  \n",
        "        if tolerance >= max_tolerance:\n",
        "          break\n",
        "    \n",
        "    for param in model.roberta.parameters():\n",
        "        param.requires_grad = True"
      ],
      "metadata": {
        "id": "w2FDwCLpvVo2"
      },
      "execution_count": 12,
      "outputs": []
    },
    {
      "cell_type": "markdown",
      "source": [
        "<h3>Train the model</h3>\n",
        "<p>Iterates through training data, calculates the loss and updates the model's parameters using the optimizer and updates the scheduler which helps adjust the learning rate. The model is evaluated on the validation set at a fixed interval. If the validation loss is the best we found yet we'll save the model by creating a checkpoint. If the model is overfitting for 3+ epochs the model will stop training.</p>"
      ],
      "metadata": {
        "id": "oXxlAMIRB6wk"
      }
    },
    {
      "cell_type": "code",
      "source": [
        "def train(model, optimizer, train_iterator, valid_iterator, scheduler = None, num_epochs = 5, evaluation_period = len(train_iterator)):\n",
        "    tolerance = 0\n",
        "    max_tolerance = 3\n",
        "    training_loss = 0.0\n",
        "    validation_loss = 0.0\n",
        "    best_validation_loss = sys.float_info.max\n",
        "    period = 0\n",
        "    \n",
        "    model.train()\n",
        "    \n",
        "    for epoch in range(num_epochs):\n",
        "        for batch in train_iterator:\n",
        "            (tweet, label), _ = batch\n",
        "            \n",
        "            mask = (tweet != padding_indices).type(torch.uint8)                 # ignore padding tokens\n",
        "\n",
        "            # forward pass and calculate the loss\n",
        "            y_pred = model(input_ids=tweet, attention_mask=mask)\n",
        "            loss = torch.nn.CrossEntropyLoss()(y_pred, label)\n",
        "\n",
        "            # backward pass and optimization\n",
        "            loss.backward()                                                     # compute gradients\n",
        "            optimizer.step()                                                    # update parameters\n",
        "            scheduler.step()                                                    # adjust learning rate\n",
        "            optimizer.zero_grad()                                               # reset gradients \n",
        "\n",
        "            # update training loss and period\n",
        "            training_loss = training_loss + loss.item()\n",
        "            period = period + 1\n",
        "\n",
        "            # evaluate model on validation set\n",
        "            if period % evaluation_period == 0:\n",
        "                model.eval()\n",
        "                \n",
        "                with torch.no_grad():                    \n",
        "                    for batch in valid_iterator:\n",
        "                        (tweet, label), _ = batch\n",
        "                        mask = (tweet != padding_indices).type(torch.uint8)\n",
        "                        y_pred = model(input_ids=tweet, attention_mask=mask)\n",
        "                        loss = torch.nn.CrossEntropyLoss()(y_pred, label)\n",
        "                        validation_loss += loss.item()\n",
        "\n",
        "                training_loss = training_loss / evaluation_period\n",
        "                validation_loss = validation_loss / len(valid_iterator)\n",
        "\n",
        "                if training_loss < validation_loss:\n",
        "                  tolerance = tolerance + 1\n",
        "\n",
        "                print('epoch [{}/{}], tolerance [{}/{}], training loss: {:.4f}, validation loss: {:.4f}'\n",
        "                      .format(epoch+1, num_epochs, tolerance, max_tolerance, training_loss, validation_loss))\n",
        "                \n",
        "                # create checkpoint if has best validation loss\n",
        "                if best_validation_loss > validation_loss:\n",
        "                    best_validation_loss = validation_loss\n",
        "                    create_checkpoint('model.pkl', model, best_validation_loss)\n",
        "\n",
        "                # stop training if we are overfitting too much\n",
        "                if tolerance >= max_tolerance:\n",
        "                  break\n",
        "                        \n",
        "                training_loss = 0.0                \n",
        "                validation_loss = 0.0\n",
        "                model.train()\n",
        "\n",
        "        if tolerance >= max_tolerance:\n",
        "          break"
      ],
      "metadata": {
        "id": "exLR20m9B4bN"
      },
      "execution_count": 13,
      "outputs": []
    },
    {
      "cell_type": "markdown",
      "source": [
        "<h3>Pretraining the model</h3>"
      ],
      "metadata": {
        "id": "l3xV8eSvF8q4"
      }
    },
    {
      "cell_type": "code",
      "source": [
        "model = ROBERTA()\n",
        "model = model.to(device)\n",
        "\n",
        "optimizer = AdamW(model.parameters(), lr=1e-4)\n",
        "scheduler = get_linear_schedule_with_warmup(\n",
        "  optimizer, \n",
        "  num_warmup_steps=len(train_iterator), \n",
        "  num_training_steps=len(train_iterator)*7\n",
        ")\n",
        "\n",
        "pretrain(model=model,\n",
        "  train_iterator=train_iterator,\n",
        "  valid_iterator=valid_iterator,\n",
        "  optimizer=optimizer,\n",
        "  scheduler=scheduler,\n",
        "  epochs=7\n",
        ")"
      ],
      "metadata": {
        "id": "vxATOMQ_F_Cl",
        "colab": {
          "base_uri": "https://localhost:8080/",
          "height": 253,
          "referenced_widgets": [
            "d8a48692a1324e7d816e30a205cd3244",
            "cbdc49f3c905414ead5ff9430ee7cedf",
            "41185f43813e43bf99c0acd027f4e323",
            "6c4699ded4ed4f79b54d68871e9bc4db",
            "c87214fb802f4abb9b26d7c5a7fb510f",
            "575c5d7ee4054f0e9e66737e9ed2cdf2",
            "25bf20bf2936481d8a95bff3c9d7ac02",
            "beeaaf26abf14127ab34b9dc295e7050",
            "ea270a48694343e4b9ca155d98c7e31b",
            "3fd8ead08bee400ab55b550002c68f59",
            "8197853f34c34797a9259267a181b25e"
          ]
        },
        "outputId": "b667d770-6136-423d-db59-5ccd4d17c1b7"
      },
      "execution_count": 14,
      "outputs": [
        {
          "output_type": "display_data",
          "data": {
            "text/plain": [
              "Downloading pytorch_model.bin:   0%|          | 0.00/501M [00:00<?, ?B/s]"
            ],
            "application/vnd.jupyter.widget-view+json": {
              "version_major": 2,
              "version_minor": 0,
              "model_id": "d8a48692a1324e7d816e30a205cd3244"
            }
          },
          "metadata": {}
        },
        {
          "output_type": "stream",
          "name": "stderr",
          "text": [
            "Some weights of the model checkpoint at roberta-base were not used when initializing RobertaModel: ['lm_head.dense.bias', 'lm_head.decoder.weight', 'lm_head.layer_norm.weight', 'lm_head.layer_norm.bias', 'lm_head.bias', 'lm_head.dense.weight']\n",
            "- This IS expected if you are initializing RobertaModel from the checkpoint of a model trained on another task or with another architecture (e.g. initializing a BertForSequenceClassification model from a BertForPreTraining model).\n",
            "- This IS NOT expected if you are initializing RobertaModel from the checkpoint of a model that you expect to be exactly identical (initializing a BertForSequenceClassification model from a BertForSequenceClassification model).\n",
            "/usr/local/lib/python3.10/dist-packages/transformers/optimization.py:391: FutureWarning: This implementation of AdamW is deprecated and will be removed in a future version. Use the PyTorch implementation torch.optim.AdamW instead, or set `no_deprecation_warning=True` to disable this warning\n",
            "  warnings.warn(\n"
          ]
        },
        {
          "output_type": "stream",
          "name": "stdout",
          "text": [
            "Epoch [1/7], tolerance [0/3], training loss: 0.7124, validation loss: 0.6933\n",
            "Epoch [2/7], tolerance [0/3], training loss: 0.7041, validation loss: 0.6902\n",
            "Epoch [3/7], tolerance [0/3], training loss: 0.7015, validation loss: 0.6901\n",
            "Epoch [4/7], tolerance [0/3], training loss: 0.6960, validation loss: 0.6902\n",
            "Epoch [5/7], tolerance [0/3], training loss: 0.6958, validation loss: 0.6901\n",
            "Epoch [6/7], tolerance [0/3], training loss: 0.6945, validation loss: 0.6897\n",
            "Epoch [7/7], tolerance [0/3], training loss: 0.6955, validation loss: 0.6894\n"
          ]
        }
      ]
    },
    {
      "cell_type": "markdown",
      "source": [
        "<h3>Training the model</h3>"
      ],
      "metadata": {
        "id": "WI5Feur8wYKS"
      }
    },
    {
      "cell_type": "code",
      "source": [
        "optimizer = AdamW(model.parameters(), lr=2e-5)\n",
        "scheduler = get_linear_schedule_with_warmup(\n",
        "    optimizer, \n",
        "    num_warmup_steps=len(train_iterator) * 2, \n",
        "    num_training_steps=len(train_iterator) * 8\n",
        ")\n",
        "\n",
        "train(model=model, \n",
        "  train_iterator=train_iterator, \n",
        "  valid_iterator=valid_iterator, \n",
        "  optimizer=optimizer, \n",
        "  scheduler=scheduler, \n",
        "  num_epochs=8\n",
        ")"
      ],
      "metadata": {
        "colab": {
          "base_uri": "https://localhost:8080/"
        },
        "id": "80FlEhdwk4Zh",
        "outputId": "af6e5fb0-451c-432e-fcaf-842adfcab7e1"
      },
      "execution_count": 15,
      "outputs": [
        {
          "output_type": "stream",
          "name": "stdout",
          "text": [
            "epoch [1/8], tolerance [0/3], training loss: 0.6648, validation loss: 0.6146\n",
            "epoch [2/8], tolerance [0/3], training loss: 0.5879, validation loss: 0.5578\n",
            "epoch [3/8], tolerance [1/3], training loss: 0.5136, validation loss: 0.5283\n",
            "epoch [4/8], tolerance [2/3], training loss: 0.4200, validation loss: 0.6971\n",
            "epoch [5/8], tolerance [3/3], training loss: 0.3217, validation loss: 0.5432\n"
          ]
        }
      ]
    },
    {
      "cell_type": "markdown",
      "source": [
        "<h3>Evaluation functions</h3>\n",
        "<ul>\n",
        "<li>The `model_predict` function returns the predicted labels given an iterator that goes over the test dataset.</li>\n",
        "</ul>"
      ],
      "metadata": {
        "id": "3XpD9_TGwa3-"
      }
    },
    {
      "cell_type": "code",
      "source": [
        "def model_predict(model, test_loader):\n",
        "  y_pred = []\n",
        "  y_true = []\n",
        "\n",
        "  model.eval()\n",
        "  with torch.no_grad():\n",
        "    for (source, target), _ in test_loader:\n",
        "      mask = (source != padding_indices).type(torch.uint8)\n",
        "                \n",
        "      output = model(source, attention_mask=mask)\n",
        "\n",
        "      y_pred.extend(torch.argmax(output, axis=-1).tolist())\n",
        "      y_true.extend(target.tolist())\n",
        "\n",
        "  return y_true, y_pred"
      ],
      "metadata": {
        "id": "gfWwUO5JDOs5"
      },
      "execution_count": 16,
      "outputs": []
    },
    {
      "cell_type": "markdown",
      "source": [
        "<h3>Setting up the test set iterator</h3>"
      ],
      "metadata": {
        "id": "IsB_RCsLw8hV"
      }
    },
    {
      "cell_type": "code",
      "source": [
        "fields = {'text' : ('text', text_representation), 'sarcastic' : ('sarcastic', label_representation)}\n",
        "test_data = TabularDataset(path=\"task_A_En_test.csv\", format='CSV', fields=fields)\n",
        "test_iter = Iterator(test_data, batch_size=batch_size, device=device, train=False, shuffle=False, sort=False)"
      ],
      "metadata": {
        "id": "w8rw4CrmGoQX"
      },
      "execution_count": 18,
      "outputs": []
    },
    {
      "cell_type": "markdown",
      "source": [
        "<h3>Creating the model</h3>\n",
        "<p>Here we are creating the model and based off the best checkpoint found during training.</p>"
      ],
      "metadata": {
        "id": "mSfV-K6cxBrC"
      }
    },
    {
      "cell_type": "code",
      "source": [
        "model = ROBERTA()\n",
        "model = model.to(device)\n",
        "\n",
        "boot_from_checkpoint('model.pkl', model)\n",
        "\n",
        "y_true, y_pred = model_predict(model, test_iter)"
      ],
      "metadata": {
        "colab": {
          "base_uri": "https://localhost:8080/"
        },
        "id": "ttSKXD_NHWxQ",
        "outputId": "f2a6415f-7dd3-449c-d7d2-1b0f3a1799c7"
      },
      "execution_count": 19,
      "outputs": [
        {
          "output_type": "stream",
          "name": "stderr",
          "text": [
            "Some weights of the model checkpoint at roberta-base were not used when initializing RobertaModel: ['lm_head.dense.bias', 'lm_head.decoder.weight', 'lm_head.layer_norm.weight', 'lm_head.layer_norm.bias', 'lm_head.bias', 'lm_head.dense.weight']\n",
            "- This IS expected if you are initializing RobertaModel from the checkpoint of a model trained on another task or with another architecture (e.g. initializing a BertForSequenceClassification model from a BertForPreTraining model).\n",
            "- This IS NOT expected if you are initializing RobertaModel from the checkpoint of a model that you expect to be exactly identical (initializing a BertForSequenceClassification model from a BertForSequenceClassification model).\n"
          ]
        }
      ]
    },
    {
      "cell_type": "markdown",
      "source": [],
      "metadata": {
        "id": "TC-MODvZi6ls"
      }
    },
    {
      "cell_type": "code",
      "source": [
        "generated_labels_df = pd.read_csv('task_A_En_test.csv')\n",
        "\n",
        "for i in range(len(y_pred)):\n",
        "  generated_labels_df.loc[i, 'sarcastic'] = y_pred[i]\n",
        "\n",
        "generated_labels_df.to_csv('generated_labels.csv', index=False, sep=',')"
      ],
      "metadata": {
        "id": "PC503iaTi50x"
      },
      "execution_count": 20,
      "outputs": []
    }
  ]
}